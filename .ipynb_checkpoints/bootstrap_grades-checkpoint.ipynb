{
 "cells": [
  {
   "cell_type": "code",
   "execution_count": 1,
   "metadata": {},
   "outputs": [],
   "source": [
    "import pandas as pd\n",
    "import numpy as np\n",
    "import random as rd\n",
    "import matplotlib.pyplot as plt\n",
    "import seaborn as sns\n",
    "import scipy as sp\n",
    "from sklearn.utils import resample"
   ]
  },
  {
   "cell_type": "code",
   "execution_count": 2,
   "metadata": {},
   "outputs": [],
   "source": [
    "df = pd.read_csv(filepath_or_buffer='notencsv2.csv', delimiter=';')"
   ]
  },
  {
   "cell_type": "code",
   "execution_count": 3,
   "metadata": {},
   "outputs": [
    {
     "data": {
      "text/html": [
       "<div>\n",
       "<style scoped>\n",
       "    .dataframe tbody tr th:only-of-type {\n",
       "        vertical-align: middle;\n",
       "    }\n",
       "\n",
       "    .dataframe tbody tr th {\n",
       "        vertical-align: top;\n",
       "    }\n",
       "\n",
       "    .dataframe thead th {\n",
       "        text-align: right;\n",
       "    }\n",
       "</style>\n",
       "<table border=\"1\" class=\"dataframe\">\n",
       "  <thead>\n",
       "    <tr style=\"text-align: right;\">\n",
       "      <th></th>\n",
       "      <th>zivilrecht</th>\n",
       "      <th>strafrecht</th>\n",
       "      <th>verwaltungsrecht</th>\n",
       "    </tr>\n",
       "  </thead>\n",
       "  <tbody>\n",
       "    <tr>\n",
       "      <th>0</th>\n",
       "      <td>3</td>\n",
       "      <td>6.0</td>\n",
       "      <td>2.0</td>\n",
       "    </tr>\n",
       "    <tr>\n",
       "      <th>1</th>\n",
       "      <td>3</td>\n",
       "      <td>3.0</td>\n",
       "      <td>3.0</td>\n",
       "    </tr>\n",
       "    <tr>\n",
       "      <th>2</th>\n",
       "      <td>5</td>\n",
       "      <td>5.0</td>\n",
       "      <td>3.0</td>\n",
       "    </tr>\n",
       "    <tr>\n",
       "      <th>3</th>\n",
       "      <td>6</td>\n",
       "      <td>11.0</td>\n",
       "      <td>3.0</td>\n",
       "    </tr>\n",
       "    <tr>\n",
       "      <th>4</th>\n",
       "      <td>3</td>\n",
       "      <td>6.0</td>\n",
       "      <td>2.0</td>\n",
       "    </tr>\n",
       "  </tbody>\n",
       "</table>\n",
       "</div>"
      ],
      "text/plain": [
       "   zivilrecht  strafrecht  verwaltungsrecht\n",
       "0           3         6.0               2.0\n",
       "1           3         3.0               3.0\n",
       "2           5         5.0               3.0\n",
       "3           6        11.0               3.0\n",
       "4           3         6.0               2.0"
      ]
     },
     "execution_count": 3,
     "metadata": {},
     "output_type": "execute_result"
    }
   ],
   "source": [
    "#read dataframe\n",
    "df.head()"
   ]
  },
  {
   "cell_type": "code",
   "execution_count": 4,
   "metadata": {},
   "outputs": [],
   "source": [
    "#convert col with int to float\n",
    "df['zivilrecht'] = pd.to_numeric(df['zivilrecht'], downcast='float')"
   ]
  },
  {
   "cell_type": "code",
   "execution_count": 5,
   "metadata": {},
   "outputs": [
    {
     "data": {
      "text/html": [
       "<div>\n",
       "<style scoped>\n",
       "    .dataframe tbody tr th:only-of-type {\n",
       "        vertical-align: middle;\n",
       "    }\n",
       "\n",
       "    .dataframe tbody tr th {\n",
       "        vertical-align: top;\n",
       "    }\n",
       "\n",
       "    .dataframe thead th {\n",
       "        text-align: right;\n",
       "    }\n",
       "</style>\n",
       "<table border=\"1\" class=\"dataframe\">\n",
       "  <thead>\n",
       "    <tr style=\"text-align: right;\">\n",
       "      <th></th>\n",
       "      <th>zivilrecht</th>\n",
       "      <th>strafrecht</th>\n",
       "      <th>verwaltungsrecht</th>\n",
       "    </tr>\n",
       "  </thead>\n",
       "  <tbody>\n",
       "    <tr>\n",
       "      <th>0</th>\n",
       "      <td>3.0</td>\n",
       "      <td>6.0</td>\n",
       "      <td>2.0</td>\n",
       "    </tr>\n",
       "    <tr>\n",
       "      <th>1</th>\n",
       "      <td>3.0</td>\n",
       "      <td>3.0</td>\n",
       "      <td>3.0</td>\n",
       "    </tr>\n",
       "  </tbody>\n",
       "</table>\n",
       "</div>"
      ],
      "text/plain": [
       "   zivilrecht  strafrecht  verwaltungsrecht\n",
       "0         3.0         6.0               2.0\n",
       "1         3.0         3.0               3.0"
      ]
     },
     "execution_count": 5,
     "metadata": {},
     "output_type": "execute_result"
    }
   ],
   "source": [
    "#check back\n",
    "df.head(2)"
   ]
  },
  {
   "cell_type": "code",
   "execution_count": 6,
   "metadata": {},
   "outputs": [
    {
     "data": {
      "text/html": [
       "<div>\n",
       "<style scoped>\n",
       "    .dataframe tbody tr th:only-of-type {\n",
       "        vertical-align: middle;\n",
       "    }\n",
       "\n",
       "    .dataframe tbody tr th {\n",
       "        vertical-align: top;\n",
       "    }\n",
       "\n",
       "    .dataframe thead th {\n",
       "        text-align: right;\n",
       "    }\n",
       "</style>\n",
       "<table border=\"1\" class=\"dataframe\">\n",
       "  <thead>\n",
       "    <tr style=\"text-align: right;\">\n",
       "      <th></th>\n",
       "      <th>zivilrecht</th>\n",
       "      <th>strafrecht</th>\n",
       "      <th>verwaltungsrecht</th>\n",
       "    </tr>\n",
       "  </thead>\n",
       "  <tbody>\n",
       "    <tr>\n",
       "      <th>count</th>\n",
       "      <td>36.000000</td>\n",
       "      <td>28.000000</td>\n",
       "      <td>26.000000</td>\n",
       "    </tr>\n",
       "    <tr>\n",
       "      <th>mean</th>\n",
       "      <td>4.916667</td>\n",
       "      <td>6.464286</td>\n",
       "      <td>4.807692</td>\n",
       "    </tr>\n",
       "    <tr>\n",
       "      <th>std</th>\n",
       "      <td>2.102719</td>\n",
       "      <td>1.952816</td>\n",
       "      <td>1.918734</td>\n",
       "    </tr>\n",
       "    <tr>\n",
       "      <th>min</th>\n",
       "      <td>2.000000</td>\n",
       "      <td>3.000000</td>\n",
       "      <td>2.000000</td>\n",
       "    </tr>\n",
       "    <tr>\n",
       "      <th>25%</th>\n",
       "      <td>3.750000</td>\n",
       "      <td>5.000000</td>\n",
       "      <td>3.250000</td>\n",
       "    </tr>\n",
       "    <tr>\n",
       "      <th>50%</th>\n",
       "      <td>4.000000</td>\n",
       "      <td>6.000000</td>\n",
       "      <td>5.000000</td>\n",
       "    </tr>\n",
       "    <tr>\n",
       "      <th>75%</th>\n",
       "      <td>6.250000</td>\n",
       "      <td>8.000000</td>\n",
       "      <td>5.750000</td>\n",
       "    </tr>\n",
       "    <tr>\n",
       "      <th>max</th>\n",
       "      <td>12.000000</td>\n",
       "      <td>11.000000</td>\n",
       "      <td>10.000000</td>\n",
       "    </tr>\n",
       "  </tbody>\n",
       "</table>\n",
       "</div>"
      ],
      "text/plain": [
       "       zivilrecht  strafrecht  verwaltungsrecht\n",
       "count   36.000000   28.000000         26.000000\n",
       "mean     4.916667    6.464286          4.807692\n",
       "std      2.102719    1.952816          1.918734\n",
       "min      2.000000    3.000000          2.000000\n",
       "25%      3.750000    5.000000          3.250000\n",
       "50%      4.000000    6.000000          5.000000\n",
       "75%      6.250000    8.000000          5.750000\n",
       "max     12.000000   11.000000         10.000000"
      ]
     },
     "execution_count": 6,
     "metadata": {},
     "output_type": "execute_result"
    }
   ],
   "source": [
    "df.describe()"
   ]
  },
  {
   "cell_type": "code",
   "execution_count": 7,
   "metadata": {},
   "outputs": [],
   "source": [
    "#make this cell and cell after more beautiful afterwards\n",
    "strafrecht = df['strafrecht'].dropna()\n",
    "zivilrecht = df['zivilrecht'].dropna()\n",
    "verwaltungsrecht = df['verwaltungsrecht'].dropna()\n",
    "val_str = strafrecht.values\n",
    "val_zv = zivilrecht.values\n",
    "val_vr = verwaltungsrecht.values"
   ]
  },
  {
   "cell_type": "code",
   "execution_count": 8,
   "metadata": {},
   "outputs": [],
   "source": [
    "stationen = [val_str, val_zv, val_vr]"
   ]
  },
  {
   "cell_type": "code",
   "execution_count": 9,
   "metadata": {},
   "outputs": [],
   "source": [
    "#draws one bootstrap sample with number of draws equal to list size and calculates mean. Takes station as argument.\n",
    "def bootstrapper(x):\n",
    "    rd_seed = rd.randint(0,100000000)\n",
    "    one_iter = resample(x, replace=True, random_state=rd_seed)\n",
    "    one_iter_mean = one_iter.sum()/len(one_iter)\n",
    "    return one_iter_mean"
   ]
  },
  {
   "cell_type": "code",
   "execution_count": 10,
   "metadata": {},
   "outputs": [],
   "source": [
    "def sampler(station):\n",
    "    samples = []\n",
    "    for n in range(10000):\n",
    "        samples.append(bootstrapper(station))\n",
    "    return samples    "
   ]
  },
  {
   "cell_type": "code",
   "execution_count": 11,
   "metadata": {},
   "outputs": [],
   "source": [
    "def drawplot(st_resampled):\n",
    "    x = pd.Series(st_resampled, name=\"Means\")\n",
    "    sns.set()\n",
    "    sns.distplot(x)\n",
    "    "
   ]
  },
  {
   "cell_type": "code",
   "execution_count": 12,
   "metadata": {},
   "outputs": [
    {
     "name": "stdout",
     "output_type": "stream",
     "text": [
      "count    10000.000000\n",
      "mean         6.463179\n",
      "std          0.361657\n",
      "min          5.071429\n",
      "25%          6.214286\n",
      "50%          6.464286\n",
      "75%          6.714286\n",
      "max          8.000000\n",
      "Name: Means, dtype: float64\n",
      "(5.754343194199144, 7.172013948657998)\n",
      "5.739863875015137 7.186493267842005\n",
      "count    10000.000000\n",
      "mean         4.915167\n",
      "std          0.343134\n",
      "min          3.833333\n",
      "25%          4.666667\n",
      "50%          4.916667\n",
      "75%          5.138889\n",
      "max          6.222222\n",
      "Name: Means, dtype: float64\n",
      "(4.242636203081171, 5.587697130252163)\n",
      "4.228898481240474 5.60143485209286\n",
      "count    10000.000000\n",
      "mean         4.813015\n",
      "std          0.369205\n",
      "min          3.423077\n",
      "25%          4.576923\n",
      "50%          4.807692\n",
      "75%          5.038462\n",
      "max          6.192308\n",
      "Name: Means, dtype: float64\n",
      "(4.08938718130539, 5.536643587925378)\n",
      "4.074605690337447 5.551425078893321\n"
     ]
    },
    {
     "data": {
      "image/png": "[encoded data removed]",
      "text/plain": [
       "<Figure size 432x288 with 1 Axes>"
      ]
     },
     "metadata": {},
     "output_type": "display_data"
    }
   ],
   "source": [
    "for station in stationen:\n",
    "    #start sampler to receive resampled data\n",
    "    st_resampled = sampler(station)\n",
    "    #make it pandas series for better handling\n",
    "    series = pd.Series(st_resampled, name=\"Means\")\n",
    "    #paint it\n",
    "    drawplot(series)\n",
    "    #describe series\n",
    "    print(series.describe())\n",
    "    #assuming normal to print uncertainty interval\n",
    "    print(sp.stats.norm.interval(.95, loc=series.mean(), scale=series.std()))\n",
    "    #roughly checking back interval with two std deviations from observed mean\n",
    "    two_sigma = series.std()*2\n",
    "    start = series.mean() - two_sigma\n",
    "    stop = series.mean() + two_sigma\n",
    "    print(start, stop)"
   ]
  },
  {
   "cell_type": "markdown",
   "metadata": {},
   "source": []
  }
 ],
 "metadata": {
  "kernelspec": {
   "display_name": "Python 3",
   "language": "python",
   "name": "python3"
  },
  "language_info": {
   "codemirror_mode": {
    "name": "ipython",
    "version": 3
   },
   "file_extension": ".py",
   "mimetype": "text/x-python",
   "name": "python",
   "nbconvert_exporter": "python",
   "pygments_lexer": "ipython3",
   "version": "3.7.3"
  }
 },
 "nbformat": 4,
 "nbformat_minor": 2
}
